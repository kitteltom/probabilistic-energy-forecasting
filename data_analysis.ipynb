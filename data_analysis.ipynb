{
 "cells": [
  {
   "cell_type": "markdown",
   "metadata": {},
   "source": [
    "# Data analysis"
   ]
  },
  {
   "cell_type": "code",
   "execution_count": 1,
   "metadata": {},
   "outputs": [],
   "source": [
    "import pandas as pd\n",
    "import numpy as np\n",
    "import matplotlib.pyplot as plt\n",
    "\n",
    "from eval_scripts import data_analysis\n",
    "from eval_scripts import model_eval"
   ]
  },
  {
   "cell_type": "code",
   "execution_count": null,
   "metadata": {},
   "outputs": [],
   "source": []
  },
  {
   "cell_type": "markdown",
   "metadata": {},
   "source": [
    "### Hierarchical structure"
   ]
  },
  {
   "cell_type": "code",
   "execution_count": null,
   "metadata": {},
   "outputs": [],
   "source": [
    "data_analysis.create_hierarchical_sunburst()"
   ]
  },
  {
   "cell_type": "code",
   "execution_count": null,
   "metadata": {},
   "outputs": [],
   "source": []
  },
  {
   "cell_type": "markdown",
   "metadata": {},
   "source": [
    "### Electricity demand autocorrelation"
   ]
  },
  {
   "cell_type": "code",
   "execution_count": 2,
   "metadata": {},
   "outputs": [],
   "source": [
    "data_analysis.plot_autocorrelation_over_aggregate_size()"
   ]
  },
  {
   "cell_type": "code",
   "execution_count": null,
   "metadata": {},
   "outputs": [],
   "source": []
  },
  {
   "cell_type": "markdown",
   "metadata": {},
   "source": [
    "### Weather forecast accuracy"
   ]
  },
  {
   "cell_type": "code",
   "execution_count": 3,
   "metadata": {},
   "outputs": [
    {
     "name": "stdout",
     "output_type": "stream",
     "text": [
      "\\begin{tabular}{lrrrr}\n",
      "\\toprule\n",
      "{} &        1-day &        2-day &        3-day &        4-day \\\\\n",
      "\\midrule\n",
      "Temperature &  0.09 (0.04) &  0.10 (0.03) &  0.12 (0.04) &  0.13 (0.04) \\\\\n",
      "Dew point   &  0.13 (0.04) &  0.14 (0.04) &  0.17 (0.06) &  0.18 (0.06) \\\\\n",
      "Wind speed  &  0.22 (0.07) &  0.24 (0.10) &  0.30 (0.10) &  0.33 (0.12) \\\\\n",
      "\\bottomrule\n",
      "\\end{tabular}\n",
      "\n"
     ]
    },
    {
     "data": {
      "text/html": [
       "<div>\n",
       "<style scoped>\n",
       "    .dataframe tbody tr th:only-of-type {\n",
       "        vertical-align: middle;\n",
       "    }\n",
       "\n",
       "    .dataframe tbody tr th {\n",
       "        vertical-align: top;\n",
       "    }\n",
       "\n",
       "    .dataframe thead th {\n",
       "        text-align: right;\n",
       "    }\n",
       "</style>\n",
       "<table border=\"1\" class=\"dataframe\">\n",
       "  <thead>\n",
       "    <tr style=\"text-align: right;\">\n",
       "      <th></th>\n",
       "      <th>1-day</th>\n",
       "      <th>2-day</th>\n",
       "      <th>3-day</th>\n",
       "      <th>4-day</th>\n",
       "    </tr>\n",
       "  </thead>\n",
       "  <tbody>\n",
       "    <tr>\n",
       "      <th>Temperature</th>\n",
       "      <td>0.09 (0.04)</td>\n",
       "      <td>0.10 (0.03)</td>\n",
       "      <td>0.12 (0.04)</td>\n",
       "      <td>0.13 (0.04)</td>\n",
       "    </tr>\n",
       "    <tr>\n",
       "      <th>Dew point</th>\n",
       "      <td>0.13 (0.04)</td>\n",
       "      <td>0.14 (0.04)</td>\n",
       "      <td>0.17 (0.06)</td>\n",
       "      <td>0.18 (0.06)</td>\n",
       "    </tr>\n",
       "    <tr>\n",
       "      <th>Wind speed</th>\n",
       "      <td>0.22 (0.07)</td>\n",
       "      <td>0.24 (0.10)</td>\n",
       "      <td>0.30 (0.10)</td>\n",
       "      <td>0.33 (0.12)</td>\n",
       "    </tr>\n",
       "  </tbody>\n",
       "</table>\n",
       "</div>"
      ],
      "text/plain": [
       "                   1-day        2-day        3-day        4-day\n",
       "Temperature  0.09 (0.04)  0.10 (0.03)  0.12 (0.04)  0.13 (0.04)\n",
       "Dew point    0.13 (0.04)  0.14 (0.04)  0.17 (0.06)  0.18 (0.06)\n",
       "Wind speed   0.22 (0.07)  0.24 (0.10)  0.30 (0.10)  0.33 (0.12)"
      ]
     },
     "metadata": {},
     "output_type": "display_data"
    }
   ],
   "source": [
    "display(data_analysis.create_weather_forecast_df(to_LaTeX=True))"
   ]
  },
  {
   "cell_type": "code",
   "execution_count": 4,
   "metadata": {},
   "outputs": [],
   "source": [
    "# display(data_analysis.create_weather_forecast_df(to_LaTeX=True, winter_period=True))"
   ]
  },
  {
   "cell_type": "code",
   "execution_count": null,
   "metadata": {},
   "outputs": [],
   "source": []
  },
  {
   "cell_type": "markdown",
   "metadata": {},
   "source": [
    "### Multivariate weather regression"
   ]
  },
  {
   "cell_type": "code",
   "execution_count": 5,
   "metadata": {},
   "outputs": [
    {
     "name": "stdout",
     "output_type": "stream",
     "text": [
      "                            OLS Regression Results                            \n",
      "==============================================================================\n",
      "Dep. Variable:     Energy demand (L0)   R-squared:                       0.890\n",
      "Model:                            OLS   Adj. R-squared:                  0.889\n",
      "Method:                 Least Squares   F-statistic:                     727.9\n",
      "Date:                Thu, 02 Dec 2021   Prob (F-statistic):          9.43e-171\n",
      "Time:                        14:48:30   Log-Likelihood:                -1758.3\n",
      "No. Observations:                 364   AIC:                             3527.\n",
      "Df Residuals:                     359   BIC:                             3546.\n",
      "Df Model:                           4                                         \n",
      "Covariance Type:            nonrobust                                         \n",
      "===============================================================================\n",
      "                  coef    std err          t      P>|t|      [0.025      0.975]\n",
      "-------------------------------------------------------------------------------\n",
      "Constant      549.8159      1.600    343.716      0.000     546.670     552.962\n",
      "Temperature   -96.2014      6.089    -15.798      0.000    -108.177     -84.226\n",
      "Dew point      48.4421      4.912      9.862      0.000      38.782      58.102\n",
      "Wind speed      4.1517      1.639      2.533      0.012       0.928       7.375\n",
      "Seasonality   -35.9433      3.307    -10.868      0.000     -42.447     -29.439\n",
      "==============================================================================\n",
      "Omnibus:                        7.187   Durbin-Watson:                   0.602\n",
      "Prob(Omnibus):                  0.028   Jarque-Bera (JB):                7.315\n",
      "Skew:                           0.276   Prob(JB):                       0.0258\n",
      "Kurtosis:                       3.423   Cond. No.                         8.01\n",
      "==============================================================================\n",
      "\n",
      "Notes:\n",
      "[1] Standard Errors assume that the covariance matrix of the errors is correctly specified.\n"
     ]
    }
   ],
   "source": [
    "print(data_analysis.weather_OLS('L0', 'Agg')[0])"
   ]
  },
  {
   "cell_type": "code",
   "execution_count": 6,
   "metadata": {},
   "outputs": [],
   "source": [
    "# print(data_analysis.weather_OLS('L0', 'Agg', forecast=True)[0])"
   ]
  },
  {
   "cell_type": "code",
   "execution_count": 7,
   "metadata": {},
   "outputs": [
    {
     "name": "stdout",
     "output_type": "stream",
     "text": [
      "                            OLS Regression Results                            \n",
      "==============================================================================\n",
      "Dep. Variable:     Energy demand (L0)   R-squared:                       0.854\n",
      "Model:                            OLS   Adj. R-squared:                  0.853\n",
      "Method:                 Least Squares   F-statistic:                     702.5\n",
      "Date:                Thu, 02 Dec 2021   Prob (F-statistic):          4.69e-150\n",
      "Time:                        14:48:32   Log-Likelihood:                -1810.0\n",
      "No. Observations:                 364   AIC:                             3628.\n",
      "Df Residuals:                     360   BIC:                             3644.\n",
      "Df Model:                           3                                         \n",
      "Covariance Type:            nonrobust                                         \n",
      "===============================================================================\n",
      "                  coef    std err          t      P>|t|      [0.025      0.975]\n",
      "-------------------------------------------------------------------------------\n",
      "Constant      549.8159      1.842    298.564      0.000     546.194     553.437\n",
      "Temperature  -136.6537      5.548    -24.629      0.000    -147.565    -125.742\n",
      "Dew point      58.7031      5.550     10.578      0.000      47.789      69.617\n",
      "Wind speed      7.7052      1.849      4.167      0.000       4.069      11.341\n",
      "==============================================================================\n",
      "Omnibus:                       18.019   Durbin-Watson:                   0.664\n",
      "Prob(Omnibus):                  0.000   Jarque-Bera (JB):               20.360\n",
      "Skew:                           0.482   Prob(JB):                     3.79e-05\n",
      "Kurtosis:                       3.643   Cond. No.                         5.88\n",
      "==============================================================================\n",
      "\n",
      "Notes:\n",
      "[1] Standard Errors assume that the covariance matrix of the errors is correctly specified.\n"
     ]
    }
   ],
   "source": [
    "print(data_analysis.weather_OLS('L0', 'Agg', include_seasonality=False)[0])"
   ]
  },
  {
   "cell_type": "code",
   "execution_count": 8,
   "metadata": {},
   "outputs": [],
   "source": [
    "# print(data_analysis.weather_OLS('L0', 'Agg', include_seasonality=False, forecast=True)[0])"
   ]
  },
  {
   "cell_type": "code",
   "execution_count": 9,
   "metadata": {},
   "outputs": [
    {
     "name": "stdout",
     "output_type": "stream",
     "text": [
      "Temperature vs. Temperature + Dew Point\n",
      "0.802\n",
      "0.847\n",
      "\n",
      "Temperature + Seasonality vs. Temperature + Dew Point + Seasonality\n",
      "0.859\n",
      "0.888\n",
      "\n"
     ]
    }
   ],
   "source": [
    "print('Temperature vs. Temperature + Dew Point')\n",
    "print(f\"{data_analysis.weather_OLS('L0', 'Agg', weather_variables=['temperature'], include_seasonality=False)[1]:.3f}\")\n",
    "print(f\"{data_analysis.weather_OLS('L0', 'Agg', weather_variables=['temperature', 'dew_point'], include_seasonality=False)[1]:.3f}\")\n",
    "print()\n",
    "print('Temperature + Seasonality vs. Temperature + Dew Point + Seasonality')\n",
    "print(f\"{data_analysis.weather_OLS('L0', 'Agg', weather_variables=['temperature'], include_seasonality=True)[1]:.3f}\")\n",
    "print(f\"{data_analysis.weather_OLS('L0', 'Agg', weather_variables=['temperature', 'dew_point'], include_seasonality=True)[1]:.3f}\")\n",
    "print()"
   ]
  },
  {
   "cell_type": "code",
   "execution_count": 10,
   "metadata": {},
   "outputs": [],
   "source": [
    "#print('Temperature forecast vs. Temperature forecast + Dew Point forecast')\n",
    "#print(f\"{data_analysis.weather_OLS('L0', 'Agg', weather_variables=['temperature'], include_seasonality=False, forecast=True)[1]:.3f}\")\n",
    "#print(f\"{data_analysis.weather_OLS('L0', 'Agg', weather_variables=['temperature', 'dew_point'], include_seasonality=False, forecast=True)[1]:.3f}\")\n",
    "#print()\n",
    "#print('Temperature forecast + Seasonality vs. Temperature forecast + Dew Point forecast + Seasonality')\n",
    "#print(f\"{data_analysis.weather_OLS('L0', 'Agg', weather_variables=['temperature'], include_seasonality=True, forecast=True)[1]:.3f}\")\n",
    "#print(f\"{data_analysis.weather_OLS('L0', 'Agg', weather_variables=['temperature', 'dew_point'], include_seasonality=True, forecast=True)[1]:.3f}\")\n",
    "#print()"
   ]
  },
  {
   "cell_type": "code",
   "execution_count": 11,
   "metadata": {},
   "outputs": [
    {
     "name": "stdout",
     "output_type": "stream",
     "text": [
      "                            OLS Regression Results                            \n",
      "==============================================================================\n",
      "Dep. Variable:     Energy demand (L0)   R-squared:                       0.800\n",
      "Model:                            OLS   Adj. R-squared:                  0.799\n",
      "Method:                 Least Squares   F-statistic:                     1447.\n",
      "Date:                Thu, 02 Dec 2021   Prob (F-statistic):          1.54e-128\n",
      "Time:                        14:48:47   Log-Likelihood:                -1867.5\n",
      "No. Observations:                 364   AIC:                             3739.\n",
      "Df Residuals:                     362   BIC:                             3747.\n",
      "Df Model:                           1                                         \n",
      "Covariance Type:            nonrobust                                         \n",
      "===============================================================================\n",
      "                  coef    std err          t      P>|t|      [0.025      0.975]\n",
      "-------------------------------------------------------------------------------\n",
      "Constant      549.8159      2.151    255.657      0.000     545.587     554.045\n",
      "Seasonality   -81.8171      2.151    -38.044      0.000     -86.046     -77.588\n",
      "==============================================================================\n",
      "Omnibus:                        4.116   Durbin-Watson:                   0.352\n",
      "Prob(Omnibus):                  0.128   Jarque-Bera (JB):                4.721\n",
      "Skew:                          -0.100   Prob(JB):                       0.0944\n",
      "Kurtosis:                       3.521   Cond. No.                         1.00\n",
      "==============================================================================\n",
      "\n",
      "Notes:\n",
      "[1] Standard Errors assume that the covariance matrix of the errors is correctly specified.\n"
     ]
    }
   ],
   "source": [
    "print(data_analysis.weather_OLS('L0', 'Agg', weather_variables=[])[0])"
   ]
  },
  {
   "cell_type": "code",
   "execution_count": 12,
   "metadata": {},
   "outputs": [],
   "source": [
    "# print(data_analysis.auto_OLS('L0', 'Agg')[0])"
   ]
  },
  {
   "cell_type": "code",
   "execution_count": null,
   "metadata": {},
   "outputs": [],
   "source": []
  },
  {
   "cell_type": "markdown",
   "metadata": {},
   "source": [
    "### Correlation of weather variables and electricity demand"
   ]
  },
  {
   "cell_type": "code",
   "execution_count": 14,
   "metadata": {},
   "outputs": [],
   "source": [
    "data_analysis.plot_correlation('temperature', 'L0', 'Agg')\n",
    "# data_analysis.plot_correlation('temperature', 'L0', 'Agg', forecast=True)"
   ]
  },
  {
   "cell_type": "code",
   "execution_count": 15,
   "metadata": {},
   "outputs": [],
   "source": [
    "data_analysis.plot_correlation('wind_speed', 'L0', 'Agg')\n",
    "# data_analysis.plot_correlation('wind_speed', 'L0', 'Agg', forecast=True)"
   ]
  },
  {
   "cell_type": "code",
   "execution_count": 16,
   "metadata": {},
   "outputs": [],
   "source": [
    "data_analysis.plot_correlation('dew_point', 'L0', 'Agg')\n",
    "# data_analysis.plot_correlation('dew_point', 'L0', 'Agg', forecast=True)"
   ]
  },
  {
   "cell_type": "code",
   "execution_count": null,
   "metadata": {},
   "outputs": [],
   "source": []
  },
  {
   "cell_type": "code",
   "execution_count": 17,
   "metadata": {},
   "outputs": [],
   "source": [
    "data_analysis.plot_weather_correlation_per_half_hour('L0', 'Agg')\n",
    "# data_analysis.plot_weather_correlation_per_half_hour('L0', 'Agg', forecast=True)"
   ]
  },
  {
   "cell_type": "code",
   "execution_count": 18,
   "metadata": {},
   "outputs": [],
   "source": [
    "data_analysis.plot_weather_correlation_over_aggregate_size()\n",
    "# data_analysis.plot_weather_correlation_over_aggregate_size(forecast=True)"
   ]
  },
  {
   "cell_type": "code",
   "execution_count": null,
   "metadata": {},
   "outputs": [],
   "source": []
  },
  {
   "cell_type": "markdown",
   "metadata": {},
   "source": [
    "### Temperature seasonality"
   ]
  },
  {
   "cell_type": "code",
   "execution_count": 19,
   "metadata": {},
   "outputs": [
    {
     "name": "stdout",
     "output_type": "stream",
     "text": [
      "R^2 = 0.748\n"
     ]
    }
   ],
   "source": [
    "data_analysis.plot_temperature_seasonality()\n",
    "# data_analysis.plot_temperature_seasonality(forecast=True)"
   ]
  },
  {
   "cell_type": "code",
   "execution_count": 16,
   "metadata": {},
   "outputs": [],
   "source": []
  },
  {
   "cell_type": "code",
   "execution_count": null,
   "metadata": {},
   "outputs": [],
   "source": []
  }
 ],
 "metadata": {
  "kernelspec": {
   "display_name": "Python 3",
   "language": "python",
   "name": "python3"
  },
  "language_info": {
   "codemirror_mode": {
    "name": "ipython",
    "version": 3
   },
   "file_extension": ".py",
   "mimetype": "text/x-python",
   "name": "python",
   "nbconvert_exporter": "python",
   "pygments_lexer": "ipython3",
   "version": "3.7.9"
  }
 },
 "nbformat": 4,
 "nbformat_minor": 4
}

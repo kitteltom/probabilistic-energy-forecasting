{
 "cells": [
  {
   "cell_type": "markdown",
   "metadata": {},
   "source": [
    "# Model evaluation"
   ]
  },
  {
   "cell_type": "code",
   "execution_count": 1,
   "metadata": {},
   "outputs": [],
   "source": [
    "import pandas as pd\n",
    "import numpy as np\n",
    "import matplotlib.pyplot as plt\n",
    "\n",
    "from eval_scripts import data_analysis\n",
    "from eval_scripts import model_eval"
   ]
  },
  {
   "cell_type": "code",
   "execution_count": 2,
   "metadata": {},
   "outputs": [],
   "source": [
    "# Switch the season\n",
    "model_eval.SEASON = 'sf'\n",
    "model_eval.JSON_PATH = f'/Users/kitteltom/out_{model_eval.SEASON}/'\n",
    "model_eval.OUT_PATH = f'./out/{model_eval.SEASON}/'"
   ]
  },
  {
   "cell_type": "code",
   "execution_count": null,
   "metadata": {},
   "outputs": [],
   "source": []
  },
  {
   "cell_type": "markdown",
   "metadata": {},
   "source": [
    "### Overall accuracy"
   ]
  },
  {
   "cell_type": "code",
   "execution_count": 2,
   "metadata": {},
   "outputs": [
    {
     "name": "stdout",
     "output_type": "stream",
     "text": [
      "\\begin{tabular}{lrrrr}\n",
      "\\toprule\n",
      "{} &           L0 &           L1 &           L2 &             L3 \\\\\n",
      "\\midrule\n",
      "KF          &  3.62 (1.68) &  4.13 (1.79) &  8.26 (3.90) &              - \\\\\n",
      "KF(+W)      &  3.52 (1.79) &  4.07 (1.83) &  8.22 (3.93) &              - \\\\\n",
      "KF(+WF)     &  3.55 (1.77) &  4.09 (1.81) &  8.26 (3.94) &              - \\\\\n",
      "KD-IC       &  3.95 (1.96) &  4.32 (2.13) &  8.75 (4.19) &  38.21 (21.34) \\\\\n",
      "KD-IC(+W)   &  3.88 (2.04) &  4.28 (2.18) &  8.75 (4.23) &  38.31 (20.99) \\\\\n",
      "KD-IC(+WF)  &  4.05 (2.08) &  4.50 (2.20) &  8.77 (4.20) &  38.26 (20.97) \\\\\n",
      "DeepAR      &  5.08 (1.63) &  5.34 (1.82) &  9.10 (3.84) &  38.82 (22.32) \\\\\n",
      "DeepAR(+W)  &  4.48 (2.17) &  4.89 (2.30) &  8.65 (4.09) &  38.92 (20.91) \\\\\n",
      "DeepAR(+WF) &  4.36 (2.08) &  4.76 (2.19) &  8.73 (4.09) &  38.78 (21.40) \\\\\n",
      "LWR         &  4.19 (1.59) &  4.53 (1.84) &  8.82 (4.06) &  39.84 (24.47) \\\\\n",
      "LWR(+W)     &  3.53 (1.86) &  3.92 (2.02) &  8.41 (4.14) &  39.92 (24.96) \\\\\n",
      "LWR(+WF)    &  3.68 (1.81) &  4.06 (1.99) &  8.51 (4.16) &  39.93 (24.94) \\\\\n",
      "LW          &            - &            - &            - &              - \\\\\n",
      "\\bottomrule\n",
      "\\end{tabular}\n",
      "\n"
     ]
    },
    {
     "data": {
      "text/html": [
       "<div>\n",
       "<style scoped>\n",
       "    .dataframe tbody tr th:only-of-type {\n",
       "        vertical-align: middle;\n",
       "    }\n",
       "\n",
       "    .dataframe tbody tr th {\n",
       "        vertical-align: top;\n",
       "    }\n",
       "\n",
       "    .dataframe thead th {\n",
       "        text-align: right;\n",
       "    }\n",
       "</style>\n",
       "<table border=\"1\" class=\"dataframe\">\n",
       "  <thead>\n",
       "    <tr style=\"text-align: right;\">\n",
       "      <th></th>\n",
       "      <th>L0</th>\n",
       "      <th>L1</th>\n",
       "      <th>L2</th>\n",
       "      <th>L3</th>\n",
       "    </tr>\n",
       "  </thead>\n",
       "  <tbody>\n",
       "    <tr>\n",
       "      <th>KF</th>\n",
       "      <td>3.62 (1.68)</td>\n",
       "      <td>4.13 (1.79)</td>\n",
       "      <td>8.26 (3.90)</td>\n",
       "      <td>-</td>\n",
       "    </tr>\n",
       "    <tr>\n",
       "      <th>KF(+W)</th>\n",
       "      <td>3.52 (1.79)</td>\n",
       "      <td>4.07 (1.83)</td>\n",
       "      <td>8.22 (3.93)</td>\n",
       "      <td>-</td>\n",
       "    </tr>\n",
       "    <tr>\n",
       "      <th>KF(+WF)</th>\n",
       "      <td>3.55 (1.77)</td>\n",
       "      <td>4.09 (1.81)</td>\n",
       "      <td>8.26 (3.94)</td>\n",
       "      <td>-</td>\n",
       "    </tr>\n",
       "    <tr>\n",
       "      <th>KD-IC</th>\n",
       "      <td>3.95 (1.96)</td>\n",
       "      <td>4.32 (2.13)</td>\n",
       "      <td>8.75 (4.19)</td>\n",
       "      <td>38.21 (21.34)</td>\n",
       "    </tr>\n",
       "    <tr>\n",
       "      <th>KD-IC(+W)</th>\n",
       "      <td>3.88 (2.04)</td>\n",
       "      <td>4.28 (2.18)</td>\n",
       "      <td>8.75 (4.23)</td>\n",
       "      <td>38.31 (20.99)</td>\n",
       "    </tr>\n",
       "    <tr>\n",
       "      <th>KD-IC(+WF)</th>\n",
       "      <td>4.05 (2.08)</td>\n",
       "      <td>4.50 (2.20)</td>\n",
       "      <td>8.77 (4.20)</td>\n",
       "      <td>38.26 (20.97)</td>\n",
       "    </tr>\n",
       "    <tr>\n",
       "      <th>DeepAR</th>\n",
       "      <td>5.08 (1.63)</td>\n",
       "      <td>5.34 (1.82)</td>\n",
       "      <td>9.10 (3.84)</td>\n",
       "      <td>38.82 (22.32)</td>\n",
       "    </tr>\n",
       "    <tr>\n",
       "      <th>DeepAR(+W)</th>\n",
       "      <td>4.48 (2.17)</td>\n",
       "      <td>4.89 (2.30)</td>\n",
       "      <td>8.65 (4.09)</td>\n",
       "      <td>38.92 (20.91)</td>\n",
       "    </tr>\n",
       "    <tr>\n",
       "      <th>DeepAR(+WF)</th>\n",
       "      <td>4.36 (2.08)</td>\n",
       "      <td>4.76 (2.19)</td>\n",
       "      <td>8.73 (4.09)</td>\n",
       "      <td>38.78 (21.40)</td>\n",
       "    </tr>\n",
       "    <tr>\n",
       "      <th>LWR</th>\n",
       "      <td>4.19 (1.59)</td>\n",
       "      <td>4.53 (1.84)</td>\n",
       "      <td>8.82 (4.06)</td>\n",
       "      <td>39.84 (24.47)</td>\n",
       "    </tr>\n",
       "    <tr>\n",
       "      <th>LWR(+W)</th>\n",
       "      <td>3.53 (1.86)</td>\n",
       "      <td>3.92 (2.02)</td>\n",
       "      <td>8.41 (4.14)</td>\n",
       "      <td>39.92 (24.96)</td>\n",
       "    </tr>\n",
       "    <tr>\n",
       "      <th>LWR(+WF)</th>\n",
       "      <td>3.68 (1.81)</td>\n",
       "      <td>4.06 (1.99)</td>\n",
       "      <td>8.51 (4.16)</td>\n",
       "      <td>39.93 (24.94)</td>\n",
       "    </tr>\n",
       "    <tr>\n",
       "      <th>LW</th>\n",
       "      <td>-</td>\n",
       "      <td>-</td>\n",
       "      <td>-</td>\n",
       "      <td>-</td>\n",
       "    </tr>\n",
       "  </tbody>\n",
       "</table>\n",
       "</div>"
      ],
      "text/plain": [
       "                      L0           L1           L2             L3\n",
       "KF           3.62 (1.68)  4.13 (1.79)  8.26 (3.90)              -\n",
       "KF(+W)       3.52 (1.79)  4.07 (1.83)  8.22 (3.93)              -\n",
       "KF(+WF)      3.55 (1.77)  4.09 (1.81)  8.26 (3.94)              -\n",
       "KD-IC        3.95 (1.96)  4.32 (2.13)  8.75 (4.19)  38.21 (21.34)\n",
       "KD-IC(+W)    3.88 (2.04)  4.28 (2.18)  8.75 (4.23)  38.31 (20.99)\n",
       "KD-IC(+WF)   4.05 (2.08)  4.50 (2.20)  8.77 (4.20)  38.26 (20.97)\n",
       "DeepAR       5.08 (1.63)  5.34 (1.82)  9.10 (3.84)  38.82 (22.32)\n",
       "DeepAR(+W)   4.48 (2.17)  4.89 (2.30)  8.65 (4.09)  38.92 (20.91)\n",
       "DeepAR(+WF)  4.36 (2.08)  4.76 (2.19)  8.73 (4.09)  38.78 (21.40)\n",
       "LWR          4.19 (1.59)  4.53 (1.84)  8.82 (4.06)  39.84 (24.47)\n",
       "LWR(+W)      3.53 (1.86)  3.92 (2.02)  8.41 (4.14)  39.92 (24.96)\n",
       "LWR(+WF)     3.68 (1.81)  4.06 (1.99)  8.51 (4.16)  39.93 (24.94)\n",
       "LW                     -            -            -              -"
      ]
     },
     "metadata": {},
     "output_type": "display_data"
    }
   ],
   "source": [
    "display(model_eval.create_metric_df('rCRPS', to_LaTeX=True))"
   ]
  },
  {
   "cell_type": "code",
   "execution_count": 4,
   "metadata": {},
   "outputs": [
    {
     "name": "stdout",
     "output_type": "stream",
     "text": [
      "\\begin{tabular}{lrrrr}\n",
      "\\toprule\n",
      "{} &           L0 &           L1 &            L2 &             L3 \\\\\n",
      "\\midrule\n",
      "KF          &  2.93 (1.18) &  3.43 (1.15) &   8.06 (3.79) &              - \\\\\n",
      "KF(+W)      &  2.93 (1.03) &  3.45 (0.93) &   8.04 (3.72) &              - \\\\\n",
      "KF(+WF)     &  2.93 (0.98) &  3.43 (0.91) &   8.03 (3.72) &              - \\\\\n",
      "KD-IC       &  3.55 (2.15) &  4.00 (2.02) &   8.55 (4.01) &  37.51 (18.38) \\\\\n",
      "KD-IC(+W)   &  3.52 (1.83) &  4.03 (1.66) &   8.61 (3.99) &  37.83 (18.35) \\\\\n",
      "KD-IC(+WF)  &  3.57 (1.60) &  4.02 (1.58) &   8.64 (3.97) &  37.83 (18.38) \\\\\n",
      "DeepAR      &  4.04 (0.97) &  4.36 (1.10) &   8.80 (3.75) &  38.32 (17.86) \\\\\n",
      "DeepAR(+W)  &  3.39 (0.92) &  4.06 (0.98) &   8.58 (3.88) &  39.61 (18.84) \\\\\n",
      "DeepAR(+WF) &  3.49 (0.87) &  4.07 (0.94) &   8.48 (3.87) &  39.43 (18.08) \\\\\n",
      "LWR         &  3.68 (0.97) &  4.12 (0.95) &   8.95 (3.97) &  39.56 (18.36) \\\\\n",
      "LWR(+W)     &  3.36 (0.88) &  3.87 (0.84) &   8.88 (4.05) &  40.01 (18.38) \\\\\n",
      "LWR(+WF)    &  3.35 (0.88) &  3.86 (0.86) &   8.81 (3.97) &  40.12 (18.45) \\\\\n",
      "LW          &  3.77 (1.99) &  4.37 (1.85) &  10.45 (5.02) &  50.26 (23.30) \\\\\n",
      "\\bottomrule\n",
      "\\end{tabular}\n",
      "\n"
     ]
    },
    {
     "data": {
      "text/html": [
       "<div>\n",
       "<style scoped>\n",
       "    .dataframe tbody tr th:only-of-type {\n",
       "        vertical-align: middle;\n",
       "    }\n",
       "\n",
       "    .dataframe tbody tr th {\n",
       "        vertical-align: top;\n",
       "    }\n",
       "\n",
       "    .dataframe thead th {\n",
       "        text-align: right;\n",
       "    }\n",
       "</style>\n",
       "<table border=\"1\" class=\"dataframe\">\n",
       "  <thead>\n",
       "    <tr style=\"text-align: right;\">\n",
       "      <th></th>\n",
       "      <th>L0</th>\n",
       "      <th>L1</th>\n",
       "      <th>L2</th>\n",
       "      <th>L3</th>\n",
       "    </tr>\n",
       "  </thead>\n",
       "  <tbody>\n",
       "    <tr>\n",
       "      <th>KF</th>\n",
       "      <td>2.93 (1.18)</td>\n",
       "      <td>3.43 (1.15)</td>\n",
       "      <td>8.06 (3.79)</td>\n",
       "      <td>-</td>\n",
       "    </tr>\n",
       "    <tr>\n",
       "      <th>KF(+W)</th>\n",
       "      <td>2.93 (1.03)</td>\n",
       "      <td>3.45 (0.93)</td>\n",
       "      <td>8.04 (3.72)</td>\n",
       "      <td>-</td>\n",
       "    </tr>\n",
       "    <tr>\n",
       "      <th>KF(+WF)</th>\n",
       "      <td>2.93 (0.98)</td>\n",
       "      <td>3.43 (0.91)</td>\n",
       "      <td>8.03 (3.72)</td>\n",
       "      <td>-</td>\n",
       "    </tr>\n",
       "    <tr>\n",
       "      <th>KD-IC</th>\n",
       "      <td>3.55 (2.15)</td>\n",
       "      <td>4.00 (2.02)</td>\n",
       "      <td>8.55 (4.01)</td>\n",
       "      <td>37.51 (18.38)</td>\n",
       "    </tr>\n",
       "    <tr>\n",
       "      <th>KD-IC(+W)</th>\n",
       "      <td>3.52 (1.83)</td>\n",
       "      <td>4.03 (1.66)</td>\n",
       "      <td>8.61 (3.99)</td>\n",
       "      <td>37.83 (18.35)</td>\n",
       "    </tr>\n",
       "    <tr>\n",
       "      <th>KD-IC(+WF)</th>\n",
       "      <td>3.57 (1.60)</td>\n",
       "      <td>4.02 (1.58)</td>\n",
       "      <td>8.64 (3.97)</td>\n",
       "      <td>37.83 (18.38)</td>\n",
       "    </tr>\n",
       "    <tr>\n",
       "      <th>DeepAR</th>\n",
       "      <td>4.04 (0.97)</td>\n",
       "      <td>4.36 (1.10)</td>\n",
       "      <td>8.80 (3.75)</td>\n",
       "      <td>38.32 (17.86)</td>\n",
       "    </tr>\n",
       "    <tr>\n",
       "      <th>DeepAR(+W)</th>\n",
       "      <td>3.39 (0.92)</td>\n",
       "      <td>4.06 (0.98)</td>\n",
       "      <td>8.58 (3.88)</td>\n",
       "      <td>39.61 (18.84)</td>\n",
       "    </tr>\n",
       "    <tr>\n",
       "      <th>DeepAR(+WF)</th>\n",
       "      <td>3.49 (0.87)</td>\n",
       "      <td>4.07 (0.94)</td>\n",
       "      <td>8.48 (3.87)</td>\n",
       "      <td>39.43 (18.08)</td>\n",
       "    </tr>\n",
       "    <tr>\n",
       "      <th>LWR</th>\n",
       "      <td>3.68 (0.97)</td>\n",
       "      <td>4.12 (0.95)</td>\n",
       "      <td>8.95 (3.97)</td>\n",
       "      <td>39.56 (18.36)</td>\n",
       "    </tr>\n",
       "    <tr>\n",
       "      <th>LWR(+W)</th>\n",
       "      <td>3.36 (0.88)</td>\n",
       "      <td>3.87 (0.84)</td>\n",
       "      <td>8.88 (4.05)</td>\n",
       "      <td>40.01 (18.38)</td>\n",
       "    </tr>\n",
       "    <tr>\n",
       "      <th>LWR(+WF)</th>\n",
       "      <td>3.35 (0.88)</td>\n",
       "      <td>3.86 (0.86)</td>\n",
       "      <td>8.81 (3.97)</td>\n",
       "      <td>40.12 (18.45)</td>\n",
       "    </tr>\n",
       "    <tr>\n",
       "      <th>LW</th>\n",
       "      <td>3.77 (1.99)</td>\n",
       "      <td>4.37 (1.85)</td>\n",
       "      <td>10.45 (5.02)</td>\n",
       "      <td>50.26 (23.30)</td>\n",
       "    </tr>\n",
       "  </tbody>\n",
       "</table>\n",
       "</div>"
      ],
      "text/plain": [
       "                      L0           L1            L2             L3\n",
       "KF           2.93 (1.18)  3.43 (1.15)   8.06 (3.79)              -\n",
       "KF(+W)       2.93 (1.03)  3.45 (0.93)   8.04 (3.72)              -\n",
       "KF(+WF)      2.93 (0.98)  3.43 (0.91)   8.03 (3.72)              -\n",
       "KD-IC        3.55 (2.15)  4.00 (2.02)   8.55 (4.01)  37.51 (18.38)\n",
       "KD-IC(+W)    3.52 (1.83)  4.03 (1.66)   8.61 (3.99)  37.83 (18.35)\n",
       "KD-IC(+WF)   3.57 (1.60)  4.02 (1.58)   8.64 (3.97)  37.83 (18.38)\n",
       "DeepAR       4.04 (0.97)  4.36 (1.10)   8.80 (3.75)  38.32 (17.86)\n",
       "DeepAR(+W)   3.39 (0.92)  4.06 (0.98)   8.58 (3.88)  39.61 (18.84)\n",
       "DeepAR(+WF)  3.49 (0.87)  4.07 (0.94)   8.48 (3.87)  39.43 (18.08)\n",
       "LWR          3.68 (0.97)  4.12 (0.95)   8.95 (3.97)  39.56 (18.36)\n",
       "LWR(+W)      3.36 (0.88)  3.87 (0.84)   8.88 (4.05)  40.01 (18.38)\n",
       "LWR(+WF)     3.35 (0.88)  3.86 (0.86)   8.81 (3.97)  40.12 (18.45)\n",
       "LW           3.77 (1.99)  4.37 (1.85)  10.45 (5.02)  50.26 (23.30)"
      ]
     },
     "metadata": {},
     "output_type": "display_data"
    }
   ],
   "source": [
    "display(model_eval.create_metric_df('rMAE', to_LaTeX=True))"
   ]
  },
  {
   "cell_type": "code",
   "execution_count": 5,
   "metadata": {},
   "outputs": [
    {
     "name": "stdout",
     "output_type": "stream",
     "text": [
      "\\begin{tabular}{lrrrr}\n",
      "\\toprule\n",
      "{} &           L0 &           L1 &            L2 &             L3 \\\\\n",
      "\\midrule\n",
      "KF          &  3.95 (1.68) &  4.58 (1.63) &  10.93 (5.36) &              - \\\\\n",
      "KF(+W)      &  3.90 (1.39) &  4.56 (1.27) &  10.90 (5.25) &              - \\\\\n",
      "KF(+WF)     &  3.91 (1.42) &  4.56 (1.32) &  10.87 (5.26) &              - \\\\\n",
      "KD-IC       &  4.81 (2.78) &  5.33 (2.61) &  11.59 (5.68) &  75.89 (45.74) \\\\\n",
      "KD-IC(+W)   &  4.84 (2.45) &  5.45 (2.33) &  11.69 (5.65) &  75.69 (46.99) \\\\\n",
      "KD-IC(+WF)  &  4.97 (2.27) &  5.46 (2.19) &  11.75 (5.64) &  75.41 (46.71) \\\\\n",
      "DeepAR      &  5.34 (1.26) &  5.77 (1.48) &  11.87 (5.25) &  70.04 (36.38) \\\\\n",
      "DeepAR(+W)  &  4.47 (1.11) &  5.32 (1.22) &  11.54 (5.40) &  71.04 (37.70) \\\\\n",
      "DeepAR(+WF) &  4.67 (1.14) &  5.41 (1.23) &  11.45 (5.39) &  70.79 (37.13) \\\\\n",
      "LWR         &  4.83 (1.26) &  5.39 (1.23) &  12.05 (5.56) &  71.07 (36.21) \\\\\n",
      "LWR(+W)     &  4.31 (1.11) &  4.99 (1.04) &  11.92 (5.67) &  71.92 (36.54) \\\\\n",
      "LWR(+WF)    &  4.42 (1.12) &  5.03 (1.08) &  11.83 (5.56) &  72.12 (36.96) \\\\\n",
      "LW          &  5.12 (2.55) &  5.84 (2.38) &  14.25 (7.10) &  91.20 (47.31) \\\\\n",
      "\\bottomrule\n",
      "\\end{tabular}\n",
      "\n"
     ]
    },
    {
     "data": {
      "text/html": [
       "<div>\n",
       "<style scoped>\n",
       "    .dataframe tbody tr th:only-of-type {\n",
       "        vertical-align: middle;\n",
       "    }\n",
       "\n",
       "    .dataframe tbody tr th {\n",
       "        vertical-align: top;\n",
       "    }\n",
       "\n",
       "    .dataframe thead th {\n",
       "        text-align: right;\n",
       "    }\n",
       "</style>\n",
       "<table border=\"1\" class=\"dataframe\">\n",
       "  <thead>\n",
       "    <tr style=\"text-align: right;\">\n",
       "      <th></th>\n",
       "      <th>L0</th>\n",
       "      <th>L1</th>\n",
       "      <th>L2</th>\n",
       "      <th>L3</th>\n",
       "    </tr>\n",
       "  </thead>\n",
       "  <tbody>\n",
       "    <tr>\n",
       "      <th>KF</th>\n",
       "      <td>3.95 (1.68)</td>\n",
       "      <td>4.58 (1.63)</td>\n",
       "      <td>10.93 (5.36)</td>\n",
       "      <td>-</td>\n",
       "    </tr>\n",
       "    <tr>\n",
       "      <th>KF(+W)</th>\n",
       "      <td>3.90 (1.39)</td>\n",
       "      <td>4.56 (1.27)</td>\n",
       "      <td>10.90 (5.25)</td>\n",
       "      <td>-</td>\n",
       "    </tr>\n",
       "    <tr>\n",
       "      <th>KF(+WF)</th>\n",
       "      <td>3.91 (1.42)</td>\n",
       "      <td>4.56 (1.32)</td>\n",
       "      <td>10.87 (5.26)</td>\n",
       "      <td>-</td>\n",
       "    </tr>\n",
       "    <tr>\n",
       "      <th>KD-IC</th>\n",
       "      <td>4.81 (2.78)</td>\n",
       "      <td>5.33 (2.61)</td>\n",
       "      <td>11.59 (5.68)</td>\n",
       "      <td>75.89 (45.74)</td>\n",
       "    </tr>\n",
       "    <tr>\n",
       "      <th>KD-IC(+W)</th>\n",
       "      <td>4.84 (2.45)</td>\n",
       "      <td>5.45 (2.33)</td>\n",
       "      <td>11.69 (5.65)</td>\n",
       "      <td>75.69 (46.99)</td>\n",
       "    </tr>\n",
       "    <tr>\n",
       "      <th>KD-IC(+WF)</th>\n",
       "      <td>4.97 (2.27)</td>\n",
       "      <td>5.46 (2.19)</td>\n",
       "      <td>11.75 (5.64)</td>\n",
       "      <td>75.41 (46.71)</td>\n",
       "    </tr>\n",
       "    <tr>\n",
       "      <th>DeepAR</th>\n",
       "      <td>5.34 (1.26)</td>\n",
       "      <td>5.77 (1.48)</td>\n",
       "      <td>11.87 (5.25)</td>\n",
       "      <td>70.04 (36.38)</td>\n",
       "    </tr>\n",
       "    <tr>\n",
       "      <th>DeepAR(+W)</th>\n",
       "      <td>4.47 (1.11)</td>\n",
       "      <td>5.32 (1.22)</td>\n",
       "      <td>11.54 (5.40)</td>\n",
       "      <td>71.04 (37.70)</td>\n",
       "    </tr>\n",
       "    <tr>\n",
       "      <th>DeepAR(+WF)</th>\n",
       "      <td>4.67 (1.14)</td>\n",
       "      <td>5.41 (1.23)</td>\n",
       "      <td>11.45 (5.39)</td>\n",
       "      <td>70.79 (37.13)</td>\n",
       "    </tr>\n",
       "    <tr>\n",
       "      <th>LWR</th>\n",
       "      <td>4.83 (1.26)</td>\n",
       "      <td>5.39 (1.23)</td>\n",
       "      <td>12.05 (5.56)</td>\n",
       "      <td>71.07 (36.21)</td>\n",
       "    </tr>\n",
       "    <tr>\n",
       "      <th>LWR(+W)</th>\n",
       "      <td>4.31 (1.11)</td>\n",
       "      <td>4.99 (1.04)</td>\n",
       "      <td>11.92 (5.67)</td>\n",
       "      <td>71.92 (36.54)</td>\n",
       "    </tr>\n",
       "    <tr>\n",
       "      <th>LWR(+WF)</th>\n",
       "      <td>4.42 (1.12)</td>\n",
       "      <td>5.03 (1.08)</td>\n",
       "      <td>11.83 (5.56)</td>\n",
       "      <td>72.12 (36.96)</td>\n",
       "    </tr>\n",
       "    <tr>\n",
       "      <th>LW</th>\n",
       "      <td>5.12 (2.55)</td>\n",
       "      <td>5.84 (2.38)</td>\n",
       "      <td>14.25 (7.10)</td>\n",
       "      <td>91.20 (47.31)</td>\n",
       "    </tr>\n",
       "  </tbody>\n",
       "</table>\n",
       "</div>"
      ],
      "text/plain": [
       "                      L0           L1            L2             L3\n",
       "KF           3.95 (1.68)  4.58 (1.63)  10.93 (5.36)              -\n",
       "KF(+W)       3.90 (1.39)  4.56 (1.27)  10.90 (5.25)              -\n",
       "KF(+WF)      3.91 (1.42)  4.56 (1.32)  10.87 (5.26)              -\n",
       "KD-IC        4.81 (2.78)  5.33 (2.61)  11.59 (5.68)  75.89 (45.74)\n",
       "KD-IC(+W)    4.84 (2.45)  5.45 (2.33)  11.69 (5.65)  75.69 (46.99)\n",
       "KD-IC(+WF)   4.97 (2.27)  5.46 (2.19)  11.75 (5.64)  75.41 (46.71)\n",
       "DeepAR       5.34 (1.26)  5.77 (1.48)  11.87 (5.25)  70.04 (36.38)\n",
       "DeepAR(+W)   4.47 (1.11)  5.32 (1.22)  11.54 (5.40)  71.04 (37.70)\n",
       "DeepAR(+WF)  4.67 (1.14)  5.41 (1.23)  11.45 (5.39)  70.79 (37.13)\n",
       "LWR          4.83 (1.26)  5.39 (1.23)  12.05 (5.56)  71.07 (36.21)\n",
       "LWR(+W)      4.31 (1.11)  4.99 (1.04)  11.92 (5.67)  71.92 (36.54)\n",
       "LWR(+WF)     4.42 (1.12)  5.03 (1.08)  11.83 (5.56)  72.12 (36.96)\n",
       "LW           5.12 (2.55)  5.84 (2.38)  14.25 (7.10)  91.20 (47.31)"
      ]
     },
     "metadata": {},
     "output_type": "display_data"
    }
   ],
   "source": [
    "display(model_eval.create_metric_df('rRMSE', to_LaTeX=True))"
   ]
  },
  {
   "cell_type": "code",
   "execution_count": 6,
   "metadata": {},
   "outputs": [],
   "source": [
    "# display(model_eval.create_metric_df('MAPE', to_LaTeX=False))"
   ]
  },
  {
   "cell_type": "code",
   "execution_count": 7,
   "metadata": {},
   "outputs": [],
   "source": [
    "model_eval.plot_level_bars('L0', 'rCRPS')\n",
    "model_eval.plot_level_bars('L1', 'rCRPS')\n",
    "model_eval.plot_level_bars('L2', 'rCRPS')\n",
    "model_eval.plot_level_bars('L3', 'rCRPS')"
   ]
  },
  {
   "cell_type": "code",
   "execution_count": null,
   "metadata": {},
   "outputs": [],
   "source": []
  },
  {
   "cell_type": "markdown",
   "metadata": {},
   "source": [
    "### Weather effect score over aggregation size"
   ]
  },
  {
   "cell_type": "code",
   "execution_count": 4,
   "metadata": {},
   "outputs": [
    {
     "name": "stdout",
     "output_type": "stream",
     "text": [
      "Correlation (W): 0.485\n",
      "Correlation (WF): 0.448\n",
      "Correlation (W): 0.224\n",
      "Correlation (WF): 0.061\n",
      "Correlation (W): 0.406\n",
      "Correlation (WF): 0.477\n",
      "Correlation (W): 0.670\n",
      "Correlation (WF): 0.676\n"
     ]
    }
   ],
   "source": [
    "model_eval.plot_aggregate_size_weather_effect('KF', 'rCRPS')\n",
    "model_eval.plot_aggregate_size_weather_effect('KD-IC', 'rCRPS')\n",
    "model_eval.plot_aggregate_size_weather_effect('DeepAR', 'rCRPS')\n",
    "model_eval.plot_aggregate_size_weather_effect('LWR', 'rCRPS')"
   ]
  },
  {
   "cell_type": "code",
   "execution_count": null,
   "metadata": {},
   "outputs": [],
   "source": []
  },
  {
   "cell_type": "markdown",
   "metadata": {},
   "source": [
    "### Benchmark skill score over aggregation size"
   ]
  },
  {
   "cell_type": "code",
   "execution_count": 5,
   "metadata": {},
   "outputs": [],
   "source": [
    "model_eval.plot_aggregate_size_benchmark_skill('KF', 'rMAE')\n",
    "model_eval.plot_aggregate_size_benchmark_skill('KD-IC', 'rMAE')\n",
    "model_eval.plot_aggregate_size_benchmark_skill('DeepAR', 'rMAE')\n",
    "model_eval.plot_aggregate_size_benchmark_skill('LWR', 'rMAE')"
   ]
  },
  {
   "cell_type": "code",
   "execution_count": null,
   "metadata": {},
   "outputs": [],
   "source": []
  },
  {
   "cell_type": "markdown",
   "metadata": {},
   "source": [
    "### Score comparison "
   ]
  },
  {
   "cell_type": "code",
   "execution_count": 4,
   "metadata": {},
   "outputs": [
    {
     "name": "stdout",
     "output_type": "stream",
     "text": [
      "Correlation: 0.999\n",
      "Correlation (W): 1.000\n",
      "Correlation (WF): 1.000\n",
      "Correlation: 0.986\n",
      "Correlation (W): 0.990\n",
      "Correlation (WF): 0.989\n",
      "Correlation: 0.993\n",
      "Correlation (W): 0.994\n",
      "Correlation (WF): 0.993\n",
      "Correlation: 0.991\n",
      "Correlation (W): 0.992\n",
      "Correlation (WF): 0.992\n"
     ]
    }
   ],
   "source": [
    "model_eval.plot_score_comparison('KF', 'rCRPS', 'rMAE')\n",
    "# model_eval.plot_score_comparison('KD-IC', 'rCRPS', 'rMAE')\n",
    "# model_eval.plot_score_comparison('DeepAR', 'rCRPS', 'rMAE')\n",
    "model_eval.plot_score_comparison('KD-IC', 'rCRPS', 'rMAE', levels=['L0', 'L1', 'L2', 'L3'])\n",
    "model_eval.plot_score_comparison('DeepAR', 'rCRPS', 'rMAE', levels=['L0', 'L1', 'L2', 'L3'])\n",
    "model_eval.plot_score_comparison('LWR', 'rCRPS', 'rMAE', levels=['L0', 'L1', 'L2', 'L3'])"
   ]
  },
  {
   "cell_type": "code",
   "execution_count": 8,
   "metadata": {},
   "outputs": [
    {
     "name": "stdout",
     "output_type": "stream",
     "text": [
      "Correlation: 0.998\n",
      "Correlation (W): 0.998\n",
      "Correlation (WF): 0.998\n",
      "Correlation: 0.765\n",
      "Correlation (W): 0.757\n",
      "Correlation (WF): 0.753\n",
      "Correlation: 0.888\n",
      "Correlation (W): 0.904\n",
      "Correlation (WF): 0.901\n",
      "Correlation: 0.860\n",
      "Correlation (W): 0.862\n",
      "Correlation (WF): 0.862\n"
     ]
    }
   ],
   "source": [
    "model_eval.plot_score_comparison('KF', 'rCRPS', 'rRMSE')\n",
    "# model_eval.plot_score_comparison('KD-IC', 'rCRPS', 'rRMSE')\n",
    "# model_eval.plot_score_comparison('DeepAR', 'rCRPS', 'rRMSE')\n",
    "model_eval.plot_score_comparison('KD-IC', 'rCRPS', 'rRMSE', levels=['L0', 'L1', 'L2', 'L3'])\n",
    "model_eval.plot_score_comparison('DeepAR', 'rCRPS', 'rRMSE', levels=['L0', 'L1', 'L2', 'L3'])\n",
    "model_eval.plot_score_comparison('LWR', 'rCRPS', 'rRMSE', levels=['L0', 'L1', 'L2', 'L3'])"
   ]
  },
  {
   "cell_type": "code",
   "execution_count": 10,
   "metadata": {},
   "outputs": [],
   "source": [
    "# model_eval.plot_score_comparison('KF', 'rCRPS', 'MAPE')\n",
    "# model_eval.plot_score_comparison('KD-IC', 'rCRPS', 'MAPE')\n",
    "# model_eval.plot_score_comparison('DeepAR', 'rCRPS', 'MAPE')\n",
    "# model_eval.plot_score_comparison('KD-IC', 'rCRPS', 'MAPE', levels=['L0', 'L1', 'L2', 'L3'])\n",
    "# model_eval.plot_score_comparison('DeepAR', 'rCRPS', 'MAPE', levels=['L0', 'L1', 'L2', 'L3'])\n",
    "# model_eval.plot_score_comparison('LWR', 'rCRPS', 'MAPE', levels=['L0', 'L1', 'L2', 'L3'])"
   ]
  },
  {
   "cell_type": "code",
   "execution_count": null,
   "metadata": {},
   "outputs": [],
   "source": []
  },
  {
   "cell_type": "markdown",
   "metadata": {},
   "source": [
    "### Household level weather effect"
   ]
  },
  {
   "cell_type": "code",
   "execution_count": 6,
   "metadata": {},
   "outputs": [
    {
     "name": "stdout",
     "output_type": "stream",
     "text": [
      "Percentage improved (W): 18.56\n",
      "Percentage improved (R2 > 0.5, temperature): 34.395\n",
      "Skill score (R2 > 0.5, temperature): -0.618\n",
      "\n",
      "Percentage improved (W): 14.000000000000002\n",
      "Percentage improved (R2 > 0.5, temperature): 47.771\n",
      "Skill score (R2 > 0.5, temperature): 0.080\n",
      "\n",
      "Percentage improved (W): 21.4\n",
      "Percentage improved (R2 > 0.5, temperature): 36.943\n",
      "Skill score (R2 > 0.5, temperature): -0.569\n",
      "\n"
     ]
    }
   ],
   "source": [
    "model_eval.plot_household_level_weather_effect(\n",
    "    'rCRPS',\n",
    "    'KD-IC',\n",
    "    # compare_scores=True,\n",
    "    # lags=[336],\n",
    "    weather_vars=['temperature']\n",
    ")\n",
    "model_eval.plot_household_level_weather_effect(\n",
    "    'rCRPS',\n",
    "    'DeepAR',\n",
    "    # compare_scores=True,\n",
    "    # lags=[336],\n",
    "    weather_vars=['temperature']\n",
    ")\n",
    "model_eval.plot_household_level_weather_effect(\n",
    "    'rCRPS',\n",
    "    'LWR',\n",
    "    # compare_scores=True,\n",
    "    # lags=[336],\n",
    "    weather_vars=['temperature']\n",
    ")"
   ]
  },
  {
   "cell_type": "code",
   "execution_count": 7,
   "metadata": {},
   "outputs": [
    {
     "name": "stdout",
     "output_type": "stream",
     "text": [
      "Percentage improved (WF): 17.96\n",
      "\n",
      "Percentage improved (WF): 16.64\n",
      "\n",
      "Percentage improved (WF): 19.16\n",
      "\n"
     ]
    }
   ],
   "source": [
    "model_eval.plot_household_level_weather_effect(\n",
    "    'rCRPS',\n",
    "    'KD-IC',\n",
    "    weather='WF'\n",
    ")\n",
    "model_eval.plot_household_level_weather_effect(\n",
    "    'rCRPS',\n",
    "    'DeepAR',\n",
    "    weather='WF'\n",
    ")\n",
    "model_eval.plot_household_level_weather_effect(\n",
    "    'rCRPS',\n",
    "    'LWR',\n",
    "    weather='WF'\n",
    ")"
   ]
  },
  {
   "cell_type": "code",
   "execution_count": null,
   "metadata": {},
   "outputs": [],
   "source": []
  },
  {
   "cell_type": "markdown",
   "metadata": {},
   "source": [
    "### Accuracy and horizon"
   ]
  },
  {
   "cell_type": "code",
   "execution_count": 8,
   "metadata": {},
   "outputs": [
    {
     "name": "stdout",
     "output_type": "stream",
     "text": [
      "WES_rCRPS (W): [1.33508266 1.28405309 1.36101372 0.88596505]\n",
      "WES_rCRPS (WF): [0.87300469 0.67811973 0.80119848 0.75378293]\n",
      "WES_rCRPS (W): [-1.41690672 -0.77730851 -0.9576343  -0.78055538]\n",
      "WES_rCRPS (WF): [-1.18473715 -0.86761177 -1.03814637 -1.09993364]\n",
      "WES_rCRPS (W): [2.19728129 2.34227727 2.21179789 2.71924579]\n",
      "WES_rCRPS (WF): [2.94930812 3.46887679 3.72765662 3.78549398]\n",
      "WES_rCRPS (W): [2.64188131 2.71494782 1.93337635 1.43118547]\n",
      "WES_rCRPS (WF): [3.28792291 3.34498177 2.6556578  2.0647509 ]\n"
     ]
    }
   ],
   "source": [
    "model_eval.plot_horizon('KF', 'rCRPS')\n",
    "model_eval.plot_horizon('KD-IC', 'rCRPS')\n",
    "model_eval.plot_horizon('DeepAR', 'rCRPS')\n",
    "model_eval.plot_horizon('LWR', 'rCRPS')"
   ]
  },
  {
   "cell_type": "code",
   "execution_count": 3,
   "metadata": {},
   "outputs": [],
   "source": [
    "# model_eval.plot_horizon('KF', 'rCRPS', levels=['L0'])\n",
    "# model_eval.plot_horizon('KD-IC', 'rCRPS', levels=['L0'])\n",
    "# model_eval.plot_horizon('DeepAR', 'rCRPS', levels=['L0'])"
   ]
  },
  {
   "cell_type": "code",
   "execution_count": null,
   "metadata": {},
   "outputs": [],
   "source": []
  },
  {
   "cell_type": "markdown",
   "metadata": {},
   "source": [
    "### Accuracy and origin"
   ]
  },
  {
   "cell_type": "code",
   "execution_count": 6,
   "metadata": {},
   "outputs": [],
   "source": [
    "models = ['KF', 'KF(+W)', 'KD-IC', 'KD-IC(+W)', 'DeepAR', 'DeepAR(+W)', 'LWR', 'LWR(+W)']\n",
    "model_eval.plot_reps('rCRPS', models=models, name='Ws')"
   ]
  },
  {
   "cell_type": "code",
   "execution_count": null,
   "metadata": {},
   "outputs": [],
   "source": []
  },
  {
   "cell_type": "markdown",
   "metadata": {},
   "source": [
    "### Probabilistic calibration"
   ]
  },
  {
   "cell_type": "code",
   "execution_count": 7,
   "metadata": {},
   "outputs": [],
   "source": [
    "model_eval.plot_coverage(models=['KF', 'KF(+W)', 'KF(+WF)'], name='KFs')\n",
    "model_eval.plot_coverage(models=['KD-IC', 'KD-IC(+W)', 'KD-IC(+WF)'], name='KDs')\n",
    "model_eval.plot_coverage(models=['DeepAR', 'DeepAR(+W)', 'DeepAR(+WF)'], name='DeepARs')\n",
    "model_eval.plot_coverage(models=['LWR', 'LWR(+W)', 'LWR(+WF)'], name='LWRs')"
   ]
  },
  {
   "cell_type": "code",
   "execution_count": 23,
   "metadata": {},
   "outputs": [],
   "source": [
    "# model_eval.plot_coverage(models=['KF', 'KF(+W)', 'KF(+WF)'], name='KFs', levels=['L0'])\n",
    "# model_eval.plot_coverage(models=['KD-IC', 'KD-IC(+W)', 'KD-IC(+WF)'], name='KDs', levels=['L0'])\n",
    "# model_eval.plot_coverage(models=['DeepAR', 'DeepAR(+W)', 'DeepAR(+WF)'], name='DeepARs', levels=['L0'])\n",
    "# model_eval.plot_coverage(models=['LWR', 'LWR(+W)', 'LWR(+WF)'], name='LWRs', levels=['L0'])"
   ]
  },
  {
   "cell_type": "code",
   "execution_count": null,
   "metadata": {},
   "outputs": [],
   "source": []
  },
  {
   "cell_type": "markdown",
   "metadata": {},
   "source": [
    "### Forecast examples"
   ]
  },
  {
   "cell_type": "code",
   "execution_count": 2,
   "metadata": {},
   "outputs": [],
   "source": [
    "model_eval.plot_forecast1d('KF(+W)', 'L0', 'Agg', 0)\n",
    "model_eval.plot_forecast1d('KD-IC(+W)', 'L0', 'Agg', 0)\n",
    "model_eval.plot_forecast1d('DeepAR(+W)', 'L0', 'Agg', 0)\n",
    "model_eval.plot_forecast1d('LWR(+W)', 'L0', 'Agg', 0)"
   ]
  },
  {
   "cell_type": "code",
   "execution_count": 3,
   "metadata": {},
   "outputs": [],
   "source": [
    "model_eval.plot_forecast1d('KF(+W)', 'L2', 'ACORN-A', 0)\n",
    "model_eval.plot_forecast1d('KD-IC(+W)', 'L2', 'ACORN-A', 0)\n",
    "model_eval.plot_forecast1d('DeepAR(+W)', 'L2', 'ACORN-A', 0)\n",
    "model_eval.plot_forecast1d('LWR(+W)', 'L2', 'ACORN-A', 0)"
   ]
  },
  {
   "cell_type": "code",
   "execution_count": 3,
   "metadata": {},
   "outputs": [],
   "source": [
    "info = model_eval.collect_results()[1]\n",
    "level = 'L3'\n",
    "np.random.seed(3)\n",
    "for _ in range(1):\n",
    "    cluster = np.random.choice(info['levels'][level]['clusters'])\n",
    "    model_eval.plot_forecast1d('KD-IC(+W)', level, cluster, 0)\n",
    "    model_eval.plot_forecast1d('DeepAR(+W)', level, cluster, 0)\n",
    "    model_eval.plot_forecast1d('LWR(+W)', level, cluster, 0)"
   ]
  },
  {
   "cell_type": "code",
   "execution_count": null,
   "metadata": {},
   "outputs": [],
   "source": []
  },
  {
   "cell_type": "code",
   "execution_count": null,
   "metadata": {},
   "outputs": [],
   "source": []
  },
  {
   "cell_type": "code",
   "execution_count": 10,
   "metadata": {},
   "outputs": [],
   "source": []
  },
  {
   "cell_type": "code",
   "execution_count": 2,
   "metadata": {},
   "outputs": [],
   "source": []
  },
  {
   "cell_type": "markdown",
   "metadata": {},
   "source": [
    "### Other results"
   ]
  },
  {
   "cell_type": "code",
   "execution_count": 3,
   "metadata": {},
   "outputs": [],
   "source": [
    "model_eval.plot_PIT_hist('KF(+W)', 'L0', 'Agg')\n",
    "model_eval.plot_PIT_hist('KD-IC(+W)', 'L0', 'Agg')\n",
    "model_eval.plot_PIT_hist('DeepAR(+W)', 'L0', 'Agg')"
   ]
  },
  {
   "cell_type": "code",
   "execution_count": 7,
   "metadata": {},
   "outputs": [],
   "source": [
    "model_eval.plot_PIT_hist('KF(+W)', 'L2', 'ACORN-A')\n",
    "model_eval.plot_PIT_hist('KD-IC(+W)', 'L2', 'ACORN-A')\n",
    "model_eval.plot_PIT_hist('DeepAR(+W)', 'L2', 'ACORN-A')"
   ]
  },
  {
   "cell_type": "code",
   "execution_count": 2,
   "metadata": {},
   "outputs": [],
   "source": [
    "info = model_eval.collect_results()[1]\n",
    "level = 'L3'\n",
    "np.random.seed(42)\n",
    "for _ in range(6):\n",
    "    cluster = np.random.choice(info['levels'][level]['clusters'])\n",
    "    model_eval.plot_PIT_hist('KD-IC(+W)', level, cluster)\n",
    "    model_eval.plot_PIT_hist('DeepAR(+W)', level, cluster)"
   ]
  },
  {
   "cell_type": "code",
   "execution_count": 21,
   "metadata": {},
   "outputs": [],
   "source": [
    "info = model_eval.collect_results()[1]\n",
    "for model in info['models']:\n",
    "    if model == 'LW':\n",
    "        continue\n",
    "    model_eval.plot_PIT_overview(model)"
   ]
  },
  {
   "cell_type": "code",
   "execution_count": 8,
   "metadata": {},
   "outputs": [],
   "source": []
  },
  {
   "cell_type": "code",
   "execution_count": 5,
   "metadata": {},
   "outputs": [],
   "source": [
    "model_eval.plot_epoch_loss('DeepAR', 'L0', 'Agg')\n",
    "model_eval.plot_epoch_loss('DeepAR(+W)', 'L0', 'Agg')\n",
    "model_eval.plot_epoch_loss('DeepAR(+WF)', 'L0', 'Agg')\n",
    "\n",
    "model_eval.plot_epoch_loss('DeepAR', 'L2', 'ACORN-A')\n",
    "model_eval.plot_epoch_loss('DeepAR(+W)', 'L2', 'ACORN-A')\n",
    "model_eval.plot_epoch_loss('DeepAR(+WF)', 'L2', 'ACORN-A')\n",
    "\n",
    "model_eval.plot_epoch_loss('DeepAR', 'L3', 'MAC000003')\n",
    "model_eval.plot_epoch_loss('DeepAR(+W)', 'L3', 'MAC000003')\n",
    "model_eval.plot_epoch_loss('DeepAR(+WF)', 'L3', 'MAC000003')"
   ]
  },
  {
   "cell_type": "code",
   "execution_count": null,
   "metadata": {},
   "outputs": [],
   "source": []
  },
  {
   "cell_type": "code",
   "execution_count": 17,
   "metadata": {},
   "outputs": [
    {
     "name": "stdout",
     "output_type": "stream",
     "text": [
      "KF\n",
      "======\n",
      "rCRPS = 7.48\n",
      "\n",
      "rCRPS(W) = 7.44\n",
      "Post-hoc rCRPS(W) = 7.44\n",
      "Post-hoc SS_rCRPS(W) = 0.57\n",
      "Percentage_improved(W) = 90.91\n",
      "Consistency_across_forecasts(W): 63.31\n",
      "\n",
      "rCRPS(WF) = 7.47\n",
      "Post-hoc rCRPS(WF) = 7.46\n",
      "Post-hoc SS_rCRPS(WF) = 0.28\n",
      "Percentage_improved(WF) = 63.64\n",
      "Consistency_across_forecasts(WF): 58.44\n",
      "\n",
      "Consistency(W vs. WF): 72.73\n",
      "\n",
      "\n",
      "KD-IC\n",
      "======\n",
      "rCRPS = 7.93\n",
      "\n",
      "rCRPS(W) = 7.92\n",
      "Post-hoc rCRPS(W) = 7.89\n",
      "Post-hoc SS_rCRPS(W) = 0.54\n",
      "Percentage_improved(W) = 50.00\n",
      "Consistency_across_forecasts(W): 59.74\n",
      "\n",
      "rCRPS(WF) = 7.97\n",
      "Post-hoc rCRPS(WF) = 7.90\n",
      "Post-hoc SS_rCRPS(WF) = 0.38\n",
      "Percentage_improved(WF) = 27.27\n",
      "Consistency_across_forecasts(WF): 58.44\n",
      "\n",
      "Consistency(W vs. WF): 77.27\n",
      "\n",
      "\n",
      "DeepAR\n",
      "======\n",
      "rCRPS = 8.40\n",
      "\n",
      "rCRPS(W) = 7.95\n",
      "Post-hoc rCRPS(W) = 7.94\n",
      "Post-hoc SS_rCRPS(W) = 5.51\n",
      "Percentage_improved(W) = 95.45\n",
      "Consistency_across_forecasts(W): 71.43\n",
      "\n",
      "rCRPS(WF) = 7.99\n",
      "Post-hoc rCRPS(WF) = 7.97\n",
      "Post-hoc SS_rCRPS(WF) = 5.10\n",
      "Percentage_improved(WF) = 90.91\n",
      "Consistency_across_forecasts(WF): 73.70\n",
      "\n",
      "Consistency(W vs. WF): 95.45\n",
      "\n",
      "\n",
      "LWR\n",
      "======\n",
      "rCRPS = 8.03\n",
      "\n",
      "rCRPS(W) = 7.57\n",
      "Post-hoc rCRPS(W) = 7.56\n",
      "Post-hoc SS_rCRPS(W) = 5.76\n",
      "Percentage_improved(W) = 90.91\n",
      "Consistency_across_forecasts(W): 72.89\n",
      "\n",
      "rCRPS(WF) = 7.68\n",
      "Post-hoc rCRPS(WF) = 7.67\n",
      "Post-hoc SS_rCRPS(WF) = 4.48\n",
      "Percentage_improved(WF) = 90.91\n",
      "Consistency_across_forecasts(WF): 68.34\n",
      "\n",
      "Consistency(W vs. WF): 100.00\n",
      "\n",
      "\n"
     ]
    }
   ],
   "source": [
    "model_eval.post_hoc_analysis('rCRPS', L3=False)"
   ]
  },
  {
   "cell_type": "code",
   "execution_count": 2,
   "metadata": {},
   "outputs": [
    {
     "name": "stdout",
     "output_type": "stream",
     "text": [
      "KD-IC\n",
      "======\n",
      "rCRPS = 38.21\n",
      "\n",
      "rCRPS(W) = 38.31\n",
      "Post-hoc rCRPS(W) = 37.92\n",
      "Post-hoc SS_rCRPS(W) = 0.77\n",
      "Percentage_improved(W) = 31.72\n",
      "Consistency_across_forecasts(W): 65.10\n",
      "\n",
      "rCRPS(WF) = 38.26\n",
      "Post-hoc rCRPS(WF) = 37.90\n",
      "Post-hoc SS_rCRPS(WF) = 0.82\n",
      "Percentage_improved(WF) = 34.04\n",
      "Consistency_across_forecasts(WF): 64.74\n",
      "\n",
      "Consistency(W vs. WF): 89.04\n",
      "\n",
      "\n",
      "DeepAR\n",
      "======\n",
      "rCRPS = 38.82\n",
      "\n",
      "rCRPS(W) = 38.92\n",
      "Post-hoc rCRPS(W) = 38.24\n",
      "Post-hoc SS_rCRPS(W) = 1.50\n",
      "Percentage_improved(W) = 33.52\n",
      "Consistency_across_forecasts(W): 68.60\n",
      "\n",
      "rCRPS(WF) = 38.78\n",
      "Post-hoc rCRPS(WF) = 38.26\n",
      "Post-hoc SS_rCRPS(WF) = 1.44\n",
      "Percentage_improved(WF) = 37.76\n",
      "Consistency_across_forecasts(WF): 67.57\n",
      "\n",
      "Consistency(W vs. WF): 88.72\n",
      "\n",
      "\n",
      "LWR\n",
      "======\n",
      "rCRPS = 39.84\n",
      "\n",
      "rCRPS(W) = 39.92\n",
      "Post-hoc rCRPS(W) = 39.63\n",
      "Post-hoc SS_rCRPS(W) = 0.53\n",
      "Percentage_improved(W) = 36.60\n",
      "Consistency_across_forecasts(W): 65.48\n",
      "\n",
      "rCRPS(WF) = 39.93\n",
      "Post-hoc rCRPS(WF) = 39.65\n",
      "Post-hoc SS_rCRPS(WF) = 0.47\n",
      "Percentage_improved(WF) = 35.04\n",
      "Consistency_across_forecasts(WF): 64.89\n",
      "\n",
      "Consistency(W vs. WF): 91.96\n",
      "\n",
      "\n",
      "Consistency across models\n",
      "==========================\n",
      "Consistency - KD-IC vs. DeepAR (W) = 59.88\n",
      "Consistency - KD-IC vs. DeepAR (WF) = 56.12\n",
      "Consistency - KD-IC vs. LWR (W) = 57.20\n",
      "Consistency - KD-IC vs. LWR (WF) = 58.20\n",
      "Consistency - DeepAR vs. LWR (W) = 52.76\n",
      "Consistency - DeepAR vs. LWR (WF) = 53.68\n"
     ]
    }
   ],
   "source": [
    "model_eval.post_hoc_analysis('rCRPS', L3=True)"
   ]
  },
  {
   "cell_type": "code",
   "execution_count": 6,
   "metadata": {},
   "outputs": [],
   "source": []
  },
  {
   "cell_type": "code",
   "execution_count": 19,
   "metadata": {},
   "outputs": [],
   "source": [
    "models = ['KF(+W)', 'KD-IC(+W)', 'DeepAR(+W)', 'LWR(+W)']\n",
    "model_eval.plot_aggregate_size('rCRPS', models, name='Ws')"
   ]
  },
  {
   "cell_type": "code",
   "execution_count": null,
   "metadata": {},
   "outputs": [],
   "source": []
  },
  {
   "cell_type": "code",
   "execution_count": 2,
   "metadata": {},
   "outputs": [],
   "source": [
    "model_eval.plot_forecast('KF(+W)', 'L0', 'Agg', 0)\n",
    "model_eval.plot_forecast('DeepAR(+W)', 'L0', 'Agg', 0)\n",
    "model_eval.plot_forecast('KD-IC(+W)', 'L0', 'Agg', 0)\n",
    "model_eval.plot_forecast('KF(+W)', 'L2', 'ACORN-A', 0)\n",
    "model_eval.plot_forecast('DeepAR(+W)', 'L2', 'ACORN-A', 0)\n",
    "model_eval.plot_forecast('KD-IC(+W)', 'L2', 'ACORN-A', 0)"
   ]
  },
  {
   "cell_type": "code",
   "execution_count": 3,
   "metadata": {},
   "outputs": [],
   "source": [
    "info = model_eval.collect_results()[1]\n",
    "level = 'L3'\n",
    "np.random.seed(42)\n",
    "for _ in range(2):\n",
    "    cluster = np.random.choice(info['levels'][level]['clusters'])\n",
    "    model_eval.plot_forecast('KD-IC(+W)', level, cluster, 0)\n",
    "    model_eval.plot_forecast('DeepAR(+W)', level, cluster, 0)"
   ]
  },
  {
   "cell_type": "code",
   "execution_count": 22,
   "metadata": {},
   "outputs": [],
   "source": [
    "info = model_eval.collect_results()[1]\n",
    "model = np.random.choice(info['models'])\n",
    "if 'KF' in model:\n",
    "    level = np.random.choice(np.array(list(info['levels'].keys()))[:-1], p=np.linspace(1/6, 1/2, 3))\n",
    "else:\n",
    "    level = np.random.choice(list(info['levels'].keys()), p=np.linspace(0.1, 0.4, 4))\n",
    "cluster = np.random.choice(info['levels'][level]['clusters'])\n",
    "number = np.random.randint(info['reps'])\n",
    "model_eval.plot_forecast(model, level, cluster, number)"
   ]
  },
  {
   "cell_type": "code",
   "execution_count": null,
   "metadata": {},
   "outputs": [],
   "source": []
  },
  {
   "cell_type": "code",
   "execution_count": 20,
   "metadata": {},
   "outputs": [
    {
     "name": "stdout",
     "output_type": "stream",
     "text": [
      "\\begin{tabular}{lrrrr}\n",
      "\\toprule\n",
      "{} &        KF &  KD-IC & DeepAR &    LWR \\\\\n",
      "\\midrule\n",
      "Avg. training time [s]   &  2161.558 &  7.515 &  1.659 &  0.459 \\\\\n",
      "Avg. prediction time [s] &     0.050 &  0.079 &  0.021 &  0.061 \\\\\n",
      "\\bottomrule\n",
      "\\end{tabular}\n",
      "\n"
     ]
    },
    {
     "data": {
      "text/html": [
       "<div>\n",
       "<style scoped>\n",
       "    .dataframe tbody tr th:only-of-type {\n",
       "        vertical-align: middle;\n",
       "    }\n",
       "\n",
       "    .dataframe tbody tr th {\n",
       "        vertical-align: top;\n",
       "    }\n",
       "\n",
       "    .dataframe thead th {\n",
       "        text-align: right;\n",
       "    }\n",
       "</style>\n",
       "<table border=\"1\" class=\"dataframe\">\n",
       "  <thead>\n",
       "    <tr style=\"text-align: right;\">\n",
       "      <th></th>\n",
       "      <th>KF</th>\n",
       "      <th>KD-IC</th>\n",
       "      <th>DeepAR</th>\n",
       "      <th>LWR</th>\n",
       "    </tr>\n",
       "  </thead>\n",
       "  <tbody>\n",
       "    <tr>\n",
       "      <th>Avg. training time [s]</th>\n",
       "      <td>2161.558</td>\n",
       "      <td>7.515</td>\n",
       "      <td>1.659</td>\n",
       "      <td>0.459</td>\n",
       "    </tr>\n",
       "    <tr>\n",
       "      <th>Avg. prediction time [s]</th>\n",
       "      <td>0.050</td>\n",
       "      <td>0.079</td>\n",
       "      <td>0.021</td>\n",
       "      <td>0.061</td>\n",
       "    </tr>\n",
       "  </tbody>\n",
       "</table>\n",
       "</div>"
      ],
      "text/plain": [
       "                                KF  KD-IC DeepAR    LWR\n",
       "Avg. training time [s]    2161.558  7.515  1.659  0.459\n",
       "Avg. prediction time [s]     0.050  0.079  0.021  0.061"
      ]
     },
     "metadata": {},
     "output_type": "display_data"
    }
   ],
   "source": [
    "display(model_eval.create_runtime_df())"
   ]
  },
  {
   "cell_type": "code",
   "execution_count": null,
   "metadata": {},
   "outputs": [],
   "source": []
  },
  {
   "cell_type": "code",
   "execution_count": 4,
   "metadata": {},
   "outputs": [],
   "source": [
    "# evaluation.plot_coherency_errors_per_half_hour('KF(+W)', 'L0', 'Agg', 'L2')\n",
    "evaluation.plot_coherency_errors_per_half_hour('KF(+W)', 'L0', 'Agg', 'L3')"
   ]
  },
  {
   "cell_type": "code",
   "execution_count": 3,
   "metadata": {},
   "outputs": [],
   "source": [
    "# evaluation.plot_coherency_errors_per_half_hour('KD-IC(+W)', 'L0', 'Agg', 'L2')\n",
    "evaluation.plot_coherency_errors_per_half_hour('KD-IC(+W)', 'L0', 'Agg', 'L3')"
   ]
  },
  {
   "cell_type": "code",
   "execution_count": 4,
   "metadata": {},
   "outputs": [],
   "source": [
    "# evaluation.plot_coherency_errors_per_half_hour('DeepAR(+W)', 'L0', 'Agg', 'L2')\n",
    "evaluation.plot_coherency_errors_per_half_hour('DeepAR(+W)', 'L0', 'Agg', 'L3')"
   ]
  },
  {
   "cell_type": "code",
   "execution_count": null,
   "metadata": {},
   "outputs": [],
   "source": []
  },
  {
   "cell_type": "code",
   "execution_count": 2,
   "metadata": {},
   "outputs": [],
   "source": [
    "evaluation.plot_coherency_errors('L0', 'Agg', 'L2')"
   ]
  },
  {
   "cell_type": "code",
   "execution_count": 2,
   "metadata": {},
   "outputs": [],
   "source": [
    "model_eval.plot_coherency_errors('L0', 'Agg', 'L3')"
   ]
  },
  {
   "cell_type": "code",
   "execution_count": null,
   "metadata": {},
   "outputs": [],
   "source": []
  },
  {
   "cell_type": "code",
   "execution_count": 3,
   "metadata": {},
   "outputs": [
    {
     "data": {
      "image/png": "[encoded data removed]",
      "text/plain": [
       "<Figure size 432x288 with 1 Axes>"
      ]
     },
     "metadata": {
      "needs_background": "light"
     },
     "output_type": "display_data"
    }
   ],
   "source": [
    "# Legend for scatter plots\n",
    "fix, ax = plt.subplots()\n",
    "markers1 = ax.scatter([0], [0], marker='o', color='grey', edgecolors='none')\n",
    "markers2 = ax.scatter([0], [1], marker='X', color='grey', edgecolors='none', alpha=0.5)\n",
    "\n",
    "figlegend = plt.figure()\n",
    "figlegend.legend([markers1, markers2], ('no weather', 'actual weather'), 'center', ncol=2)\n",
    "plt.tight_layout()\n",
    "plt.savefig('/Users/kitteltom/Downloads/marker_legend.pdf', bbox_inches='tight')\n",
    "plt.close()"
   ]
  },
  {
   "cell_type": "code",
   "execution_count": 5,
   "metadata": {},
   "outputs": [
    {
     "data": {
      "image/png": "[encoded data removed]",
      "text/plain": [
       "<Figure size 432x288 with 1 Axes>"
      ]
     },
     "metadata": {
      "needs_background": "light"
     },
     "output_type": "display_data"
    }
   ],
   "source": [
    "# Legend for scatter plots\n",
    "fix, ax = plt.subplots()\n",
    "markers1 = ax.scatter([0], [0], marker='o', color='grey', edgecolors='none')\n",
    "markers2 = ax.scatter([0], [1], marker='X', color='grey', edgecolors='none', alpha=0.75)\n",
    "markers3 = ax.scatter([0], [2], marker='v', color='grey', edgecolors='none', alpha=0.5)\n",
    "\n",
    "figlegend = plt.figure()\n",
    "figlegend.legend(\n",
    "    [markers1, markers2, markers3],\n",
    "    ('no weather', 'actual weather', 'weather forecast'),\n",
    "    'center',\n",
    "    ncol=3\n",
    ")\n",
    "plt.tight_layout()\n",
    "plt.savefig('/Users/kitteltom/Downloads/marker3_legend.pdf', bbox_inches='tight')\n",
    "plt.close()"
   ]
  },
  {
   "cell_type": "code",
   "execution_count": 4,
   "metadata": {},
   "outputs": [
    {
     "data": {
      "image/png": "[encoded data removed]",
      "text/plain": [
       "<Figure size 432x288 with 1 Axes>"
      ]
     },
     "metadata": {
      "needs_background": "light"
     },
     "output_type": "display_data"
    }
   ],
   "source": [
    "# Legend for plots\n",
    "fix, ax = plt.subplots()\n",
    "lines = ax.plot([0, 1], [0, 1], 'o-C7', [0, 1], [0, 2], 'X--C7', [0, 1], [0, 3], 'v-.C7')\n",
    "\n",
    "figlegend = plt.figure()\n",
    "figlegend.legend(lines, ('no weather', 'actual weather', 'weather forecast'), 'center', ncol=3)\n",
    "plt.tight_layout()\n",
    "plt.savefig('/Users/kitteltom/Downloads/line_marker_legend.pdf', bbox_inches='tight')\n",
    "plt.close()"
   ]
  },
  {
   "cell_type": "code",
   "execution_count": 5,
   "metadata": {},
   "outputs": [
    {
     "data": {
      "image/png": "[encoded data removed]",
      "text/plain": [
       "<Figure size 432x288 with 1 Axes>"
      ]
     },
     "metadata": {
      "needs_background": "light"
     },
     "output_type": "display_data"
    }
   ],
   "source": [
    "# Legend for plots\n",
    "fix, ax = plt.subplots()\n",
    "lines = ax.plot([0, 1], [0, 1], '-C7', [0, 1], [0, 2], '--C7', [0, 1], [0, 3], '-.C7')\n",
    "\n",
    "figlegend = plt.figure()\n",
    "figlegend.legend(lines, ('no weather', 'actual weather', 'weather forecast'), 'center', ncol=3)\n",
    "plt.tight_layout()\n",
    "plt.savefig('/Users/kitteltom/Downloads/line_legend.pdf', bbox_inches='tight')\n",
    "plt.close()"
   ]
  },
  {
   "cell_type": "code",
   "execution_count": 3,
   "metadata": {},
   "outputs": [],
   "source": [
    "# Legend for barcharts\n",
    "from matplotlib.patches import Patch\n",
    "\n",
    "no_w_patch = Patch(facecolor='grey', hatch=None, edgecolor='white', label='no weather')\n",
    "w_patch = Patch(facecolor='grey', hatch='//', edgecolor='white', label='actual weather')\n",
    "wf_patch = Patch(facecolor='grey', hatch='xx', edgecolor='white', label='weather forecast')\n",
    "\n",
    "figlegend = plt.figure()\n",
    "figlegend.legend(handles=[no_w_patch, w_patch, wf_patch], loc='center', ncol=3)\n",
    "plt.tight_layout()\n",
    "plt.savefig('/Users/kitteltom/Downloads/box_legend.pdf', bbox_inches='tight')\n",
    "plt.close()"
   ]
  },
  {
   "cell_type": "code",
   "execution_count": null,
   "metadata": {},
   "outputs": [],
   "source": []
  }
 ],
 "metadata": {
  "kernelspec": {
   "display_name": "Python 3",
   "language": "python",
   "name": "python3"
  },
  "language_info": {
   "codemirror_mode": {
    "name": "ipython",
    "version": 3
   },
   "file_extension": ".py",
   "mimetype": "text/x-python",
   "name": "python",
   "nbconvert_exporter": "python",
   "pygments_lexer": "ipython3",
   "version": "3.7.9"
  }
 },
 "nbformat": 4,
 "nbformat_minor": 4
}
